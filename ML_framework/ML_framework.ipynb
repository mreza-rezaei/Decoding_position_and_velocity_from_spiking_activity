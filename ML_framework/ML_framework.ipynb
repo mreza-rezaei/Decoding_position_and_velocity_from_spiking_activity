{
 "cells": [
  {
   "cell_type": "markdown",
   "metadata": {},
   "source": [
    "## Hierarchical LSTM For Position Estimation"
   ]
  },
  {
   "cell_type": "markdown",
   "metadata": {},
   "source": [
    "### Load libs"
   ]
  },
  {
   "cell_type": "code",
   "execution_count": 1,
   "metadata": {},
   "outputs": [],
   "source": [
    "%matplotlib inline\n",
    "# %pylab osx\n",
    "import numpy as np\n",
    "import matplotlib.pyplot as plt\n",
    "import IPython.display as ipyd\n",
    "plt.style.use('ggplot')\n"
   ]
  },
  {
   "cell_type": "markdown",
   "metadata": {},
   "source": [
    "### Load data and create database"
   ]
  },
  {
   "cell_type": "code",
   "execution_count": 2,
   "metadata": {},
   "outputs": [
    {
     "name": "stdout",
     "output_type": "stream",
     "text": [
      "X_train : Train spiking data shape:  (1, 23209, 62)\n",
      "Arm_train : Train maze labels shape:  (1, 23209, 4)\n",
      "y_train : train position data shape:  (1, 23209, 4)\n",
      "X_test : Test spiking data shape:  (1, 4095, 62)\n",
      "Arm_test : Test maze labels shape:  (1, 4095, 4)\n",
      "y_test : Test position data shape:  (1, 4095, 4)\n"
     ]
    }
   ],
   "source": [
    "from Dataset import Train_And_Test_Data\n",
    "Data=Train_And_Test_Data()\n",
    "Data.load_data()\n",
    "Data.min_and_max()\n",
    "[X_train,Arm_train,y_train,X_test,Arm_test,y_test]=Data.Dataset()"
   ]
  },
  {
   "cell_type": "markdown",
   "metadata": {},
   "source": [
    "### Create Position Estimator with penalized loss"
   ]
  },
  {
   "cell_type": "code",
   "execution_count": null,
   "metadata": {},
   "outputs": [],
   "source": []
  },
  {
   "cell_type": "code",
   "execution_count": 3,
   "metadata": {},
   "outputs": [
    {
     "name": "stderr",
     "output_type": "stream",
     "text": [
      "Using TensorFlow backend.\n"
     ]
    },
    {
     "name": "stdout",
     "output_type": "stream",
     "text": [
      "__________________________________________________________________________________________________\n",
      "Layer (type)                    Output Shape         Param #     Connected to                     \n",
      "==================================================================================================\n",
      "Input (InputLayer)              (None, 23209, 62)    0                                            \n",
      "__________________________________________________________________________________________________\n",
      "MazeSeq (LSTM)                  (None, 23209, 4)     1072        Input[0][0]                      \n",
      "__________________________________________________________________________________________________\n",
      "ConcatFeature (Concatenate)     (None, 23209, 66)    0           MazeSeq[0][0]                    \n",
      "                                                                 Input[0][0]                      \n",
      "__________________________________________________________________________________________________\n",
      "P_Features (LSTM)               (None, 23209, 2)     552         ConcatFeature[0][0]              \n",
      "__________________________________________________________________________________________________\n",
      "V_Features (LSTM)               (None, 23209, 2)     552         ConcatFeature[0][0]              \n",
      "__________________________________________________________________________________________________\n",
      "P (TimeDistributed)             (None, 23209, 2)     6           P_Features[0][0]                 \n",
      "__________________________________________________________________________________________________\n",
      "V (TimeDistributed)             (None, 23209, 2)     6           V_Features[0][0]                 \n",
      "__________________________________________________________________________________________________\n",
      "Maze (TimeDistributed)          (None, 23209, 4)     20          MazeSeq[0][0]                    \n",
      "==================================================================================================\n",
      "Total params: 2,208\n",
      "Trainable params: 2,208\n",
      "Non-trainable params: 0\n",
      "__________________________________________________________________________________________________\n"
     ]
    }
   ],
   "source": [
    "from decoder import Full_Model_LSTMDecoder\n",
    "Decoder=Full_Model_LSTMDecoder(verbose=0,Topology=2)\n",
    "Decoder.create_model(X_train,y_train)\n"
   ]
  },
  {
   "cell_type": "markdown",
   "metadata": {},
   "source": [
    "### Train The Model"
   ]
  },
  {
   "cell_type": "code",
   "execution_count": 4,
   "metadata": {},
   "outputs": [
    {
     "data": {
      "text/plain": [
       "<keras.callbacks.History at 0x1d371d46358>"
      ]
     },
     "execution_count": 4,
     "metadata": {},
     "output_type": "execute_result"
    }
   ],
   "source": [
    "Decoder.fit(X_train,y_train,Arm_train)"
   ]
  },
  {
   "cell_type": "markdown",
   "metadata": {},
   "source": [
    "### Estimate the test path"
   ]
  },
  {
   "cell_type": "code",
   "execution_count": 5,
   "metadata": {},
   "outputs": [
    {
     "ename": "NameError",
     "evalue": "name 'y_predict' is not defined",
     "output_type": "error",
     "traceback": [
      "\u001b[0;31m---------------------------------------------------------------------------\u001b[0m",
      "\u001b[0;31mNameError\u001b[0m                                 Traceback (most recent call last)",
      "\u001b[0;32m<ipython-input-5-eeca4268e975>\u001b[0m in \u001b[0;36m<module>\u001b[0;34m()\u001b[0m\n\u001b[0;32m----> 1\u001b[0;31m \u001b[0mnp\u001b[0m\u001b[1;33m.\u001b[0m\u001b[0mmax\u001b[0m\u001b[1;33m(\u001b[0m\u001b[0my_predict\u001b[0m\u001b[1;33m[\u001b[0m\u001b[1;33m:\u001b[0m\u001b[1;33m,\u001b[0m\u001b[1;36m0\u001b[0m\u001b[1;33m]\u001b[0m\u001b[1;33m)\u001b[0m\u001b[1;33m\u001b[0m\u001b[0m\n\u001b[0m",
      "\u001b[0;31mNameError\u001b[0m: name 'y_predict' is not defined"
     ]
    }
   ],
   "source": [
    "np.max(y_predict[:,0])"
   ]
  },
  {
   "cell_type": "code",
   "execution_count": null,
   "metadata": {
    "scrolled": true
   },
   "outputs": [],
   "source": [
    "[y_predict,Maze]=Decoder.predict(X_test)\n",
    "\n",
    "\n",
    "y_predict[:,0]=np.multiply(y_predict[:,0],Data.MaxX-Data.MinX)+Data.MinX\n",
    "y_predict[:,1]=np.multiply(y_predict[:,1],Data.MaxY-Data.MinY)+Data.MinY\n",
    "y_predict[:,2]=np.multiply(y_predict[:,2],Data.VMaxX-Data.VMinX)+Data.VMinX\n",
    "y_predict[:,3]=np.multiply(y_predict[:,3],Data.VMaxY-Data.VMinY)+Data.VMinY\n",
    "\n"
   ]
  },
  {
   "cell_type": "markdown",
   "metadata": {},
   "source": [
    "### Get measures"
   ]
  },
  {
   "cell_type": "markdown",
   "metadata": {},
   "source": [
    "### RMSE"
   ]
  },
  {
   "cell_type": "code",
   "execution_count": null,
   "metadata": {},
   "outputs": [],
   "source": [
    "from metrics import get_RMSE\n",
    "RMSE=get_RMSE(y_test[0],y_predict)\n",
    "RMSE"
   ]
  },
  {
   "cell_type": "markdown",
   "metadata": {},
   "source": [
    "### R2"
   ]
  },
  {
   "cell_type": "code",
   "execution_count": null,
   "metadata": {},
   "outputs": [],
   "source": [
    "from metrics import get_R2\n",
    "R2=get_RMSE(y_test[0],y_predict)\n",
    "R2"
   ]
  },
  {
   "cell_type": "markdown",
   "metadata": {},
   "source": [
    "### Show the result"
   ]
  },
  {
   "cell_type": "code",
   "execution_count": null,
   "metadata": {},
   "outputs": [],
   "source": [
    "plt.figure(num=None, figsize=(12, 6))\n",
    "plt1=plt.plot(y_predict[:,1],'b',label=\"EstimatedTestPath-Y\")\n",
    "plt.plot(y_test[0,:,1],'r',label=\"TestPath-Y\")\n",
    "plt.legend(loc=4)\n",
    "plt.title('Estimate position Y')\n",
    "#plt.savefig('EstimatedTestPath-Y2.png',format='png', dpi=1000,transparent=False)\n",
    "\n",
    "plt.figure(num=None, figsize=(12, 6))\n",
    "plt1=plt.plot(y_predict[:,0],'b',label=\"EstimatedTestPath-X\")\n",
    "plt.plot(y_test[0,:,0],'r',label=\"TestPath-X\")\n",
    "plt.legend(loc=4)\n",
    "plt.title('Estimate position X ')\n",
    "#plt.savefig('EstimatedTestPath-X2.png',format='png', dpi=1000,transparent=False)\n",
    "\n",
    "plt.figure(num=None, figsize=(12, 6))\n",
    "plt.plot(np.argmax(Maze[0],axis=-1),'b',label=\"EstimatedMaze\")\n",
    "plt.plot(np.argmax(Arm_test[0],axis=-1),'r',label=\"TestMaze\")\n",
    "plt.legend(loc=4)\n",
    "plt.title('Maze')\n",
    "\n",
    "#plt.savefig('EstimatedTestPath-X2.png',format='png', dpi=1000,transparent=False)\n",
    "plt.figure(num=None, figsize=(12, 6))\n",
    "plt1=plt.plot(y_predict[:,2],'b',label=\"EstimatedVelocity-X\")\n",
    "plt.plot(y_test[0,:,2],'r',label=\"TestVelocity-X\")\n",
    "plt.legend(loc=4)\n",
    "plt.title('Estimate Velocity X')\n",
    "#\n",
    "plt.figure(num=None, figsize=(12, 6))\n",
    "plt1=plt.plot(y_predict[:,3],'b',label=\"EstimatedVelocity-Y\")\n",
    "plt.plot(y_test[0,:,3],'r',label=\"TestVelocity-Y\")\n",
    "plt.legend(loc=4)\n",
    "plt.title('Estimate Velocity Y ')"
   ]
  }
 ],
 "metadata": {
  "anaconda-cloud": {},
  "kernelspec": {
   "display_name": "Python 3",
   "language": "python",
   "name": "python3"
  },
  "language_info": {
   "codemirror_mode": {
    "name": "ipython",
    "version": 3
   },
   "file_extension": ".py",
   "mimetype": "text/x-python",
   "name": "python",
   "nbconvert_exporter": "python",
   "pygments_lexer": "ipython3",
   "version": "3.5.2"
  }
 },
 "nbformat": 4,
 "nbformat_minor": 2
}
