{
 "cells": [
  {
   "cell_type": "markdown",
   "metadata": {},
   "source": [
    "## Hierarchical LSTM For Position Estimation"
   ]
  },
  {
   "cell_type": "markdown",
   "metadata": {},
   "source": [
    "### Load libs"
   ]
  },
  {
   "cell_type": "code",
   "execution_count": 1,
   "metadata": {},
   "outputs": [],
   "source": [
    "%matplotlib inline\n",
    "# %pylab osx\n",
    "import numpy as np\n",
    "import matplotlib.pyplot as plt\n",
    "import IPython.display as ipyd\n",
    "plt.style.use('ggplot')\n"
   ]
  },
  {
   "cell_type": "markdown",
   "metadata": {},
   "source": [
    "### Load data and create database"
   ]
  },
  {
   "cell_type": "code",
   "execution_count": 2,
   "metadata": {},
   "outputs": [
    {
     "name": "stdout",
     "output_type": "stream",
     "text": [
      "X_train : Train spiking data shape:  (1, 23209, 62)\n",
      "Arm_train : Train maze labels shape:  (1, 23209, 4)\n",
      "y_train : train position data shape:  (1, 23209, 4)\n",
      "X_test : Test spiking data shape:  (1, 4095, 62)\n",
      "Arm_test : Test maze labels shape:  (1, 4095, 4)\n",
      "y_test : Test position data shape:  (1, 4095, 4)\n"
     ]
    }
   ],
   "source": [
    "from Dataset import Train_And_Test_Data\n",
    "Data=Train_And_Test_Data()\n",
    "Data.load_data()\n",
    "Data.min_and_max()\n",
    "[X_train,Arm_train,y_train,X_test,Arm_test,y_test]=Data.Dataset()"
   ]
  },
  {
   "cell_type": "markdown",
   "metadata": {},
   "source": [
    "### Create Position Estimator with penalized loss"
   ]
  },
  {
   "cell_type": "code",
   "execution_count": null,
   "metadata": {},
   "outputs": [],
   "source": [
    "# -*- coding: utf-8 -*-\n",
    "\"\"\"\n",
    "Created on Thu Jul 19 08:11:34 2018\n",
    "\n",
    "@author: reza\n",
    "\"\"\"\n",
    "\n",
    "import keras\n",
    "from keras.layers import *\n",
    "from keras.models import *\n",
    "import keras.backend as K\n",
    "import timeit\n",
    "import numpy as np\n",
    "#################### LONG SHORT TERM MEMORY (LSTM) DECODER ##########################\n",
    "def Build_model(X_train,y_train,Topology): \n",
    "    \n",
    "        if Topology == 1:\n",
    "            # Create Position  and Velocity estimator model\n",
    "            #input\n",
    "            In=Input(shape=(X_train.shape[1:]),name='Input')\n",
    "            # position\n",
    "            P=TimeDistributed(Dense(2,activation='sigmoid'),name='P')(In)\n",
    "            #velocity\n",
    "            V=TimeDistributed(Dense(2,activation='sigmoid'),name='V')(In)\n",
    "            #build model\n",
    "            Model2=Model(inputs=In,outputs=[P,V])\n",
    "            #compile model\n",
    "            Model2.compile(loss={'P':'mse','V':'mse'},optimizer='rmsprop')\n",
    "        elif Topology==2:\n",
    "            # Create Position and Velocity estimator model\n",
    "            #input\n",
    "            In=Input(shape=(X_train.shape[1:]),name='Input')\n",
    "            #Maze\n",
    "            Mazee=LSTM(4,return_sequences=True,name='MazeSeq')(In)\n",
    "            Maze=TimeDistributed(Dense(4,activation='sigmoid'),name='Maze')(Mazee)\n",
    "            M=concatenate([Mazee,In],name='ConcatFeature')\n",
    "            #position\n",
    "            Pe=LSTM(2,return_sequences=True,name='P_Features')(M)\n",
    "            P=TimeDistributed(Dense(2,activation='sigmoid'),name='P')(Pe)\n",
    "            #velocity\n",
    "            Ve=LSTM(2,return_sequences=True,name='V_Features')(M)\n",
    "            V=TimeDistributed(Dense(2,activation='sigmoid'),name='V')(Ve)\n",
    "            #build model\n",
    "            Model2=Model(inputs=In,outputs=[P,V,Maze])\n",
    "            #compile\n",
    "            Model2.compile(loss={'P':'mse','V':'mse','Maze':'binary_crossentropy'},optimizer='rmsprop',metrics={'Maze':'accuracy'})\n",
    "        elif Topology==3:\n",
    "            # Create Position and Velocity estimator model\n",
    "            #input\n",
    "            In=Input(shape=(X_train.shape[1:]),name='Input')\n",
    "            #maze\n",
    "            Mazee=LSTM(4,return_sequences=True,name='MazeSeq')(In)\n",
    "            Maze=TimeDistributed(Dense(2,activation='softmax'),name='Maze')(Mazee)\n",
    "            #velocity\n",
    "            Ve=LSTM(2,return_sequences=True,name='VelocitySeq')(In)\n",
    "            V=TimeDistributed(Dense(2,activation='sigmoid'),name='Velocity')(Ve)\n",
    "            #position\n",
    "            M=concatenate([Mazee,In,Ve],name='ConcatFeature')\n",
    "            Pe=LSTM(2,return_sequences=True,name='P_Features')(M)\n",
    "            P=TimeDistributed(Dense(2,activation='sigmoid'),name='P')(Pe)\n",
    "            #build model\n",
    "            Model2=Model(inputs=In,outputs=[P,V,Maze])\n",
    "            #compile\n",
    "            Model2.compile(loss={'Velocity':'mse','P':'mse','Maze':'binary_crossentropy'},optimizer='rmsprop',metrics={'Maze':'accuracy'})\n",
    "        elif Topology==4:\n",
    "            # Create Position and Velocity estimator model\n",
    "            #input\n",
    "            In=Input(shape=(X_train.shape[1:]),name='Input')\n",
    "            #maze\n",
    "            Mazee=LSTM(4,return_sequences=True,name='MazeSeq')(In)\n",
    "            Maze=TimeDistributed(Dense(2,activation='softmax'),name='Maze')(Mazee)\n",
    "            #Accelerate\n",
    "            Ae=LSTM(2,return_sequences=True,name='AcceSeq')(In)\n",
    "            A=TimeDistributed(Dense(2,activation='sigmoid'),name='ACC')(Ae)\n",
    "            #velocity\n",
    "            M0=concatenate([A,In],name='ConcatFeature0')\n",
    "            Ve=LSTM(2,return_sequences=True,name='VelocitySeq')(M0)\n",
    "            V=TimeDistributed(Dense(2,activation='sigmoid'),name='Velocity')(Ve)\n",
    "            #position\n",
    "            M=concatenate([Maze,In,Ve],name='ConcatFeature')\n",
    "            Pe=LSTM(2,return_sequences=True,name='P_Features')(M)\n",
    "            P=TimeDistributed(Dense(2,activation='sigmoid'),name='P')(Pe)\n",
    "            #build model\n",
    "            Model2=Model(inputs=In,outputs=[P,V,A,Maze])\n",
    "            #compile\n",
    "            Model2.compile(loss={'Velocity':'mse','P':'mse','ACC':'mse','Maze':'binary_crossentropy'},optimizer='rmsprop',metrics={'Maze':'accuracy'})\n",
    "\n",
    "        elif Topology==5:\n",
    "            # Create Position and Velocity estimator model\n",
    "            #input\n",
    "            In=Input(shape=(X_train.shape[1:]),name='Input')\n",
    "            #maze\n",
    "            Mazee=LSTM(4,return_sequences=True,name='MazeSeq')(In)\n",
    "            Maze=TimeDistributed(Dense(2,activation='softmax'),name='Maze')(Mazee)\n",
    "            #Accelerate\n",
    "            Ae=LSTM(2,return_sequences=True,name='AcceSeq')(In)\n",
    "            A=TimeDistributed(Dense(2,activation='sigmoid'),name='ACC')(Ae)\n",
    "            #velocity\n",
    "            M0=concatenate([A,In],name='ConcatFeature0')\n",
    "            Ve=LSTM(2,return_sequences=True,name='VelocitySeq')(M0)\n",
    "            V=TimeDistributed(Dense(2,activation='sigmoid'),name='Velocity')(Ve)\n",
    "            #position\n",
    "            M=concatenate([Maze,In,Ve],name='ConcatFeature')\n",
    "            Pe=LSTM(2,return_sequences=True,name='P_Features')(M)\n",
    "            P=TimeDistributed(Dense(2,activation='sigmoid'),name='P')(Pe)\n",
    "            #build model\n",
    "            Model2=Model(inputs=In,outputs=[P,V,A,Maze])\n",
    "            #compile\n",
    "            Model2.compile(loss={'Velocity':self.penalized_loss(A),'P':self.penalized_loss(V),'ACC':'mse','Maze':'binary_crossentropy'},optimizer='rmsprop',metrics={'Maze':'accuracy'})\n",
    "\n",
    "        else:\n",
    "            print(\"No valid Topology\")\n",
    "        Model2.summary()\n",
    "        return Model2\n",
    "\n",
    "class Full_Model_LSTMDecoder(object):\n",
    "\n",
    "    \"\"\"\n",
    "    Class for Full model LSTM decoder\n",
    "\n",
    "\n",
    "    \"\"\"\n",
    "\n",
    "    def __init__(self,verbose=0,epochs=100,Topology=1,path='PositionEstimatorFull.h5'):\n",
    "        \n",
    "        \n",
    "        self.verbose=verbose\n",
    "        self.path=path\n",
    "        self.epochs=epochs\n",
    "        self.topology=Topology\n",
    "    def penalized_loss(self,Pen):\n",
    "        # Define cost function for bouth positions\n",
    "        Pen1=(K.abs(Pen-0.5)+.1)*2\n",
    "        def loss(y_true, y_pred):\n",
    "            return K.mean(K.square(y_pred - y_true)*Pen1 , axis=-1)\n",
    "        return loss\n",
    "    \n",
    "    def create_model(self,X_train,y_train):\n",
    "        \n",
    "        self.model=Build_model(self,X_train,y_train,self.topology)\n",
    "    def fit(self,X_train,y_train,Arm_train,save=False,use_pretrained=False):\n",
    "        ## Fit the model    \n",
    "        if self.Topology == 1:\n",
    "            if use_pretrained == True:\n",
    "                self.model.load_weights(self.path)\n",
    "            Hist=self.model.fit(X_train,[y_train[:,:,:2],y_train[:,:,2:4]],shuffle=False,epochs=self.epochs,verbose=self.verbose,batch_size=1)\n",
    "            if save == True:\n",
    "                self.model.save_weights(self.path)\n",
    "            return Hist\n",
    "        elif self.Topology == 2:\n",
    "            if use_pretrained == True:\n",
    "                self.model.load_weights(self.path)\n",
    "            Hist=self.model.fit(X_train,[y_train[:,:,:2],y_train[:,:,2:4],Arm_train],shuffle=False,epochs=self.epochs,verbose=self.verbose,batch_size=1)\n",
    "            if save == True:\n",
    "                self.model.save_weights(self.path)\n",
    "            return Hist\n",
    "        elif self.Topology == 3:\n",
    "            if use_pretrained == True:\n",
    "                self.model.load_weights(self.path)\n",
    "            Hist=self.model.fit(X_train,[y_train[:,:,:2],y_train[:,:,2:4],Arm_train],shuffle=False,epochs=self.epochs,verbose=self.verbose,batch_size=1)\n",
    "            if save == True:\n",
    "                self.model.save_weights(self.path)\n",
    "            return Hist\n",
    "        elif self.Topology == 4:\n",
    "            if use_pretrained == True:\n",
    "                self.model.load_weights(self.path)\n",
    "            Hist=self.model.fit(X_train,[y_train[:,:,:2],y_train[:,:,2:4],y_train[:,:,4:],Arm_train],shuffle=False,epochs=self.epochs,verbose=self.verbose,batch_size=1)\n",
    "            if save == True:\n",
    "                self.model.save_weights(self.path)\n",
    "            return Hist\n",
    "        elif self.Topology == 5:\n",
    "            if use_pretrained == True:\n",
    "                self.model.load_weights(self.path)\n",
    "            Hist=self.model.fit(X_train,[y_train[:,:,:2],y_train[:,:,2:4],y_train[:,:,4:],Arm_train],shuffle=False,epochs=self.epochs,verbose=self.verbose,batch_size=1)\n",
    "            if save == True:\n",
    "                self.model.save_weights(self.path)\n",
    "            return Hist\n",
    "    def save_or_load(self,save=False,use_pretrained=False):\n",
    "        if use_pretrained == True:\n",
    "            self.model.load_weights(self.path)\n",
    "        if save == True:\n",
    "            self.model.save_weights(self.path)\n",
    "            \n",
    "    def predict(self,X_test,y_test):\n",
    "        \n",
    "        self.test_model=Build_model(X_train,y_train,self.topology)\n",
    "        \n",
    "        self.test_model.set_weights(self.model.get_weights()) \n",
    "        if Topology ==1:\n",
    "            y_predict=np.zeros((X_test.shape[1],4))\n",
    "            [y_valid_predicted_lstm,VS]=Model2.predict(X_test)\n",
    "            y_predict[:,:2]=y_valid_predicted_lstm[0,:,:]\n",
    "            y_predict[:,2:4]=Vs[0,:,:]\n",
    "            stop = timeit.default_timer()\n",
    "            print('test time=%f'% (stop - start) )\n",
    "        elif Topology ==2:\n",
    "            y_predict=np.zeros((X_test.shape[1],8))\n",
    "            [y_valid_predicted_lstm,VS,Maze]=Model2.predict(X_test)\n",
    "            y_predict[:,:2]=y_valid_predicted_lstm[0,:,:]\n",
    "            y_predict[:,2:4]=Vs[0,:,:]\n",
    "            y_predict[:,4:]=Maze[0,:,:]\n",
    "            stop = timeit.default_timer()\n",
    "            print('test time=%f'% (stop - start) )\n",
    "        elif Topology ==3:\n",
    "            y_predict=np.zeros((X_test.shape[1],10))\n",
    "            [y_valid_predicted_lstm,VS,Maze]=Model2.predict(X_test)\n",
    "            y_predict[:,:2]=y_valid_predicted_lstm[0,:,:]\n",
    "            y_predict[:,2:4]=Vs[0,:,:]\n",
    "            y_predict[:,6:]=Maze[0,:,:]\n",
    "            stop = timeit.default_timer()\n",
    "            print('test time=%f'% (stop - start) )\n",
    "        elif Topology ==4:\n",
    "            y_predict=np.zeros((X_test.shape[1],10))\n",
    "            [y_valid_predicted_lstm,VS,AS,Maze]=Model2.predict(X_test)\n",
    "            y_predict[:,:2]=y_valid_predicted_lstm[0,:,:]\n",
    "            y_predict[:,2:4]=Vs[0,:,:]\n",
    "            y_predict[:,4:6]=As[0,:,:]\n",
    "            y_predict[:,6:]=Maze[0,:,:]\n",
    "            stop = timeit.default_timer()\n",
    "        elif Topology ==5:\n",
    "            y_predict=np.zeros((X_test.shape[1],10))\n",
    "            [y_valid_predicted_lstm,VS,AS,Maze]=Model2.predict(X_test)\n",
    "            y_predict[:,:2]=y_valid_predicted_lstm[0,:,:]\n",
    "            y_predict[:,2:4]=Vs[0,:,:]\n",
    "            y_predict[:,4:6]=As[0,:,:]\n",
    "            y_predict[:,6:]=Maze[0,:,:]\n",
    "            stop = timeit.default_timer()\n",
    "        return [y_predict,Maze]\n"
   ]
  },
  {
   "cell_type": "code",
   "execution_count": 3,
   "metadata": {},
   "outputs": [
    {
     "name": "stderr",
     "output_type": "stream",
     "text": [
      "Using TensorFlow backend.\n"
     ]
    },
    {
     "ename": "AttributeError",
     "evalue": "'Full_Model_LSTMDecoder' object has no attribute 'shape'",
     "output_type": "error",
     "traceback": [
      "\u001b[0;31m---------------------------------------------------------------------------\u001b[0m",
      "\u001b[0;31mAttributeError\u001b[0m                            Traceback (most recent call last)",
      "\u001b[0;32m<ipython-input-3-616c97c278bc>\u001b[0m in \u001b[0;36m<module>\u001b[0;34m()\u001b[0m\n\u001b[1;32m      1\u001b[0m \u001b[1;32mfrom\u001b[0m \u001b[0mdecoder\u001b[0m \u001b[1;32mimport\u001b[0m \u001b[0mFull_Model_LSTMDecoder\u001b[0m\u001b[1;33m\u001b[0m\u001b[0m\n\u001b[1;32m      2\u001b[0m \u001b[0mDecoder\u001b[0m\u001b[1;33m=\u001b[0m\u001b[0mFull_Model_LSTMDecoder\u001b[0m\u001b[1;33m(\u001b[0m\u001b[0mverbose\u001b[0m\u001b[1;33m=\u001b[0m\u001b[1;36m0\u001b[0m\u001b[1;33m,\u001b[0m\u001b[0mTopology\u001b[0m\u001b[1;33m=\u001b[0m\u001b[1;36m2\u001b[0m\u001b[1;33m)\u001b[0m\u001b[1;33m\u001b[0m\u001b[0m\n\u001b[0;32m----> 3\u001b[0;31m \u001b[0mDecoder\u001b[0m\u001b[1;33m.\u001b[0m\u001b[0mcreate_model\u001b[0m\u001b[1;33m(\u001b[0m\u001b[0mX_train\u001b[0m\u001b[1;33m,\u001b[0m\u001b[0my_train\u001b[0m\u001b[1;33m)\u001b[0m\u001b[1;33m\u001b[0m\u001b[0m\n\u001b[0m",
      "\u001b[0;32mC:\\Users\\Sharif\\Desktop\\FinalSys\\decoder.py\u001b[0m in \u001b[0;36mcreate_model\u001b[0;34m(self, X_train, y_train)\u001b[0m\n\u001b[1;32m    138\u001b[0m     \u001b[1;32mdef\u001b[0m \u001b[0mcreate_model\u001b[0m\u001b[1;33m(\u001b[0m\u001b[0mself\u001b[0m\u001b[1;33m,\u001b[0m\u001b[0mX_train\u001b[0m\u001b[1;33m,\u001b[0m\u001b[0my_train\u001b[0m\u001b[1;33m)\u001b[0m\u001b[1;33m:\u001b[0m\u001b[1;33m\u001b[0m\u001b[0m\n\u001b[1;32m    139\u001b[0m \u001b[1;33m\u001b[0m\u001b[0m\n\u001b[0;32m--> 140\u001b[0;31m         \u001b[0mself\u001b[0m\u001b[1;33m.\u001b[0m\u001b[0mmodel\u001b[0m\u001b[1;33m=\u001b[0m\u001b[0mself\u001b[0m\u001b[1;33m.\u001b[0m\u001b[0mBuild_model\u001b[0m\u001b[1;33m(\u001b[0m\u001b[0mself\u001b[0m\u001b[1;33m,\u001b[0m\u001b[0mX_train\u001b[0m\u001b[1;33m,\u001b[0m\u001b[0my_train\u001b[0m\u001b[1;33m)\u001b[0m\u001b[1;33m\u001b[0m\u001b[0m\n\u001b[0m\u001b[1;32m    141\u001b[0m     \u001b[1;32mdef\u001b[0m \u001b[0mfit\u001b[0m\u001b[1;33m(\u001b[0m\u001b[0mself\u001b[0m\u001b[1;33m,\u001b[0m\u001b[0mX_train\u001b[0m\u001b[1;33m,\u001b[0m\u001b[0my_train\u001b[0m\u001b[1;33m,\u001b[0m\u001b[0mArm_train\u001b[0m\u001b[1;33m,\u001b[0m\u001b[0msave\u001b[0m\u001b[1;33m=\u001b[0m\u001b[1;32mFalse\u001b[0m\u001b[1;33m,\u001b[0m\u001b[0muse_pretrained\u001b[0m\u001b[1;33m=\u001b[0m\u001b[1;32mFalse\u001b[0m\u001b[1;33m)\u001b[0m\u001b[1;33m:\u001b[0m\u001b[1;33m\u001b[0m\u001b[0m\n\u001b[1;32m    142\u001b[0m         \u001b[1;31m## Fit the model\u001b[0m\u001b[1;33m\u001b[0m\u001b[1;33m\u001b[0m\u001b[0m\n",
      "\u001b[0;32mC:\\Users\\Sharif\\Desktop\\FinalSys\\decoder.py\u001b[0m in \u001b[0;36mBuild_model\u001b[0;34m(self, X_train, y_train, Topology)\u001b[0m\n\u001b[1;32m     53\u001b[0m             \u001b[1;31m# Create Position and Velocity estimator model\u001b[0m\u001b[1;33m\u001b[0m\u001b[1;33m\u001b[0m\u001b[0m\n\u001b[1;32m     54\u001b[0m             \u001b[1;31m#input\u001b[0m\u001b[1;33m\u001b[0m\u001b[1;33m\u001b[0m\u001b[0m\n\u001b[0;32m---> 55\u001b[0;31m             \u001b[0mIn\u001b[0m\u001b[1;33m=\u001b[0m\u001b[0mInput\u001b[0m\u001b[1;33m(\u001b[0m\u001b[0mshape\u001b[0m\u001b[1;33m=\u001b[0m\u001b[1;33m(\u001b[0m\u001b[0mX_train\u001b[0m\u001b[1;33m.\u001b[0m\u001b[0mshape\u001b[0m\u001b[1;33m[\u001b[0m\u001b[1;36m1\u001b[0m\u001b[1;33m:\u001b[0m\u001b[1;33m]\u001b[0m\u001b[1;33m)\u001b[0m\u001b[1;33m,\u001b[0m\u001b[0mname\u001b[0m\u001b[1;33m=\u001b[0m\u001b[1;34m'Input'\u001b[0m\u001b[1;33m)\u001b[0m\u001b[1;33m\u001b[0m\u001b[0m\n\u001b[0m\u001b[1;32m     56\u001b[0m             \u001b[1;31m#Maze\u001b[0m\u001b[1;33m\u001b[0m\u001b[1;33m\u001b[0m\u001b[0m\n\u001b[1;32m     57\u001b[0m             \u001b[0mMazee\u001b[0m\u001b[1;33m=\u001b[0m\u001b[0mLSTM\u001b[0m\u001b[1;33m(\u001b[0m\u001b[1;36m4\u001b[0m\u001b[1;33m,\u001b[0m\u001b[0mreturn_sequences\u001b[0m\u001b[1;33m=\u001b[0m\u001b[1;32mTrue\u001b[0m\u001b[1;33m,\u001b[0m\u001b[0mname\u001b[0m\u001b[1;33m=\u001b[0m\u001b[1;34m'MazeSeq'\u001b[0m\u001b[1;33m)\u001b[0m\u001b[1;33m(\u001b[0m\u001b[0mIn\u001b[0m\u001b[1;33m)\u001b[0m\u001b[1;33m\u001b[0m\u001b[0m\n",
      "\u001b[0;31mAttributeError\u001b[0m: 'Full_Model_LSTMDecoder' object has no attribute 'shape'"
     ]
    }
   ],
   "source": [
    "from decoder import Full_Model_LSTMDecoder\n",
    "Decoder=Full_Model_LSTMDecoder(verbose=0,Topology=2)\n",
    "Decoder.create_model(X_train,y_train)\n"
   ]
  },
  {
   "cell_type": "markdown",
   "metadata": {},
   "source": [
    "### Train The Model"
   ]
  },
  {
   "cell_type": "markdown",
   "metadata": {},
   "source": [
    "Decoder.fit(X_train,y_train,Arm_train)"
   ]
  },
  {
   "cell_type": "markdown",
   "metadata": {},
   "source": [
    "### Estimate the test path"
   ]
  },
  {
   "cell_type": "code",
   "execution_count": null,
   "metadata": {},
   "outputs": [],
   "source": [
    "np.max(y_predict[:,0])"
   ]
  },
  {
   "cell_type": "code",
   "execution_count": null,
   "metadata": {
    "scrolled": true
   },
   "outputs": [],
   "source": [
    "[y_predict,Maze]=Decoder.predict(X_test)\n",
    "\n",
    "\n",
    "y_predict[:,0]=np.multiply(y_predict[:,0],Data.MaxX-Data.MinX)+Data.MinX\n",
    "y_predict[:,1]=np.multiply(y_predict[:,1],Data.MaxY-Data.MinY)+Data.MinY\n",
    "y_predict[:,2]=np.multiply(y_predict[:,2],Data.VMaxX-Data.VMinX)+Data.VMinX\n",
    "y_predict[:,3]=np.multiply(y_predict[:,3],Data.VMaxY-Data.VMinY)+Data.VMinY\n",
    "\n"
   ]
  },
  {
   "cell_type": "markdown",
   "metadata": {},
   "source": [
    "### Get measures"
   ]
  },
  {
   "cell_type": "markdown",
   "metadata": {},
   "source": [
    "### RMSE"
   ]
  },
  {
   "cell_type": "code",
   "execution_count": null,
   "metadata": {},
   "outputs": [],
   "source": [
    "from metrics import get_RMSE\n",
    "RMSE=get_RMSE(y_test[0],y_predict)\n",
    "RMSE"
   ]
  },
  {
   "cell_type": "markdown",
   "metadata": {},
   "source": [
    "### R2"
   ]
  },
  {
   "cell_type": "code",
   "execution_count": null,
   "metadata": {},
   "outputs": [],
   "source": [
    "from metrics import get_R2\n",
    "R2=get_RMSE(y_test[0],y_predict)\n",
    "R2"
   ]
  },
  {
   "cell_type": "markdown",
   "metadata": {},
   "source": [
    "### Show the result"
   ]
  },
  {
   "cell_type": "code",
   "execution_count": null,
   "metadata": {},
   "outputs": [],
   "source": [
    "plt.figure(num=None, figsize=(12, 6))\n",
    "plt1=plt.plot(y_predict[:,1],'b',label=\"EstimatedTestPath-Y\")\n",
    "plt.plot(y_test[0,:,1],'r',label=\"TestPath-Y\")\n",
    "plt.legend(loc=4)\n",
    "plt.title('Estimate position Y')\n",
    "#plt.savefig('EstimatedTestPath-Y2.png',format='png', dpi=1000,transparent=False)\n",
    "\n",
    "plt.figure(num=None, figsize=(12, 6))\n",
    "plt1=plt.plot(y_predict[:,0],'b',label=\"EstimatedTestPath-X\")\n",
    "plt.plot(y_test[0,:,0],'r',label=\"TestPath-X\")\n",
    "plt.legend(loc=4)\n",
    "plt.title('Estimate position X ')\n",
    "#plt.savefig('EstimatedTestPath-X2.png',format='png', dpi=1000,transparent=False)\n",
    "\n",
    "plt.figure(num=None, figsize=(12, 6))\n",
    "plt.plot(np.argmax(Maze[0],axis=-1),'b',label=\"EstimatedMaze\")\n",
    "plt.plot(np.argmax(Arm_test[0],axis=-1),'r',label=\"TestMaze\")\n",
    "plt.legend(loc=4)\n",
    "plt.title('Maze')\n",
    "\n",
    "#plt.savefig('EstimatedTestPath-X2.png',format='png', dpi=1000,transparent=False)\n",
    "plt.figure(num=None, figsize=(12, 6))\n",
    "plt1=plt.plot(y_predict[:,2],'b',label=\"EstimatedVelocity-X\")\n",
    "plt.plot(y_test[0,:,2],'r',label=\"TestVelocity-X\")\n",
    "plt.legend(loc=4)\n",
    "plt.title('Estimate Velocity X')\n",
    "#\n",
    "plt.figure(num=None, figsize=(12, 6))\n",
    "plt1=plt.plot(y_predict[:,3],'b',label=\"EstimatedVelocity-Y\")\n",
    "plt.plot(y_test[0,:,3],'r',label=\"TestVelocity-Y\")\n",
    "plt.legend(loc=4)\n",
    "plt.title('Estimate Velocity Y ')"
   ]
  }
 ],
 "metadata": {
  "anaconda-cloud": {},
  "kernelspec": {
   "display_name": "Python 3",
   "language": "python",
   "name": "python3"
  },
  "language_info": {
   "codemirror_mode": {
    "name": "ipython",
    "version": 3
   },
   "file_extension": ".py",
   "mimetype": "text/x-python",
   "name": "python",
   "nbconvert_exporter": "python",
   "pygments_lexer": "ipython3",
   "version": "3.5.2"
  }
 },
 "nbformat": 4,
 "nbformat_minor": 2
}
